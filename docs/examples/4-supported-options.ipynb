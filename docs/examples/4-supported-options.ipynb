{
 "cells": [
  {
   "cell_type": "markdown",
   "source": [
    "# Single function\n",
    "\n",
    "in a file named [`supported_options.py`](./supported_options.py)\n",
    "\n",
    "```python\n",
    "--8<-- \"supported_options.py\"\n",
    "```"
   ],
   "metadata": {
    "collapsed": false
   }
  },
  {
   "cell_type": "code",
   "execution_count": 1,
   "outputs": [],
   "source": [
    "# Run empty\n",
    "!python supported_options.py"
   ],
   "metadata": {
    "collapsed": false,
    "pycharm": {
     "name": "#%%\n"
    }
   }
  },
  {
   "cell_type": "code",
   "execution_count": 1,
   "metadata": {
    "collapsed": true
   },
   "outputs": [
    {
     "name": "stdout",
     "output_type": "stream",
     "text": [
      "usage: pytest [-h] {cmd1,cmd2} ...\r\n",
      "\r\n",
      "App Description goes here\r\n",
      "\r\n",
      "optional arguments:\r\n",
      "  -h, --help   show this help message and exit\r\n",
      "\r\n",
      "commands:\r\n",
      "  {cmd1,cmd2}\r\n",
      "    cmd1       Example function with types documented in the docstring.\r\n",
      "    cmd2       A script with three optional values.\r\n"
     ]
    }
   ],
   "source": [
    "# Run help\n",
    "!python supported_options.py -h"
   ]
  },
  {
   "cell_type": "code",
   "execution_count": 1,
   "outputs": [
    {
     "name": "stdout",
     "output_type": "stream",
     "text": [
      "usage: pytest cmd1 [-h] [-a {one,two}] [-o OPTIONAL_STR] [-p OPTIONAL_INT]\r\n",
      "                   [-t [OPTIONAL_TPL [OPTIONAL_TPL ...]]]\r\n",
      "                   an_int an_str a_tuple a_tuple a_tuple a_var_tuple\r\n",
      "                   [a_var_tuple ...]\r\n",
      "\r\n",
      "Example function with types documented in the docstring.\r\n",
      "\r\n",
      "positional arguments:\r\n",
      "  an_int\r\n",
      "  an_str\r\n",
      "  a_tuple\r\n",
      "  a_var_tuple\r\n",
      "\r\n",
      "optional arguments:\r\n",
      "  -h, --help            show this help message and exit\r\n",
      "  -a {one,two}, --an-enum {one,two}\r\n",
      "  -o OPTIONAL_STR, --optional-str OPTIONAL_STR\r\n",
      "  -p OPTIONAL_INT, --optional-int OPTIONAL_INT\r\n",
      "  -t [OPTIONAL_TPL [OPTIONAL_TPL ...]], --optional-tpl [OPTIONAL_TPL [OPTIONAL_TPL ...]]\r\n"
     ]
    }
   ],
   "source": [
    "# ran `cmd1` help\n",
    "!python supported_options.py cmd1 -h"
   ],
   "metadata": {
    "collapsed": false,
    "pycharm": {
     "name": "#%%\n"
    }
   }
  },
  {
   "cell_type": "code",
   "execution_count": 5,
   "outputs": [
    {
     "name": "stdout",
     "output_type": "stream",
     "text": [
      "a_tuple (<class 'tuple'>): ('tp1', 'tp2', 'tp3')\r\n",
      "a_var_tuple (<class 'tuple'>): ('vtp1',)\r\n",
      "an_enum (<enum 'Choice'>): Choice.one\r\n",
      "an_int (<class 'int'>): 10\r\n",
      "an_str (<class 'str'>): str1\r\n",
      "optional_int (<class 'int'>): 0\r\n",
      "optional_str (<class 'str'>): \r\n",
      "optional_tpl (<class 'tuple'>): ()\r\n"
     ]
    }
   ],
   "source": [
    "# ran `cmd1` with only required\n",
    "!python supported_options.py cmd1 10 str1 tp1 tp2 tp3 vtp1"
   ],
   "metadata": {
    "collapsed": false,
    "pycharm": {
     "name": "#%%\n"
    }
   }
  },
  {
   "cell_type": "code",
   "execution_count": 6,
   "outputs": [
    {
     "name": "stdout",
     "output_type": "stream",
     "text": [
      "a_tuple (<class 'tuple'>): ('tp1', 'tp2', 'tp3')\r\n",
      "a_var_tuple (<class 'tuple'>): ('vtp1',)\r\n",
      "an_enum (<enum 'Choice'>): Choice.two\r\n",
      "an_int (<class 'int'>): 10\r\n",
      "an_str (<class 'str'>): str1\r\n",
      "optional_int (<class 'int'>): 100\r\n",
      "optional_str (<class 'str'>): ostr\r\n",
      "optional_tpl (<class 'tuple'>): ('otp1', 'otp2', 'otp3')\r\n"
     ]
    }
   ],
   "source": [
    "# ran `cmd1` with valid arguments\n",
    "!python supported_options.py cmd1 10 str1 tp1 tp2 tp3 vtp1 --optional-tpl otp1 otp2 --optional-tpl otp3 --optional-str ostr --optional-int 100 --an-enum two"
   ],
   "metadata": {
    "collapsed": false,
    "pycharm": {
     "name": "#%%\n"
    }
   }
  },
  {
   "cell_type": "code",
   "execution_count": 2,
   "outputs": [
    {
     "name": "stdout",
     "output_type": "stream",
     "text": [
      "usage: pytest cmd2 [-h] [-m] [-y] [--my] [a_list [a_list ...]]\r\n",
      "\r\n",
      "A script with three optional values.\r\n",
      "\r\n",
      "positional arguments:\r\n",
      "  a_list       catch all positional arguments (default: None)\r\n",
      "\r\n",
      "optional arguments:\r\n",
      "  -h, --help   show this help message and exit\r\n",
      "  -m, --m-opt  the m_opt helptext (default: False)\r\n",
      "  -y, --y-opt  the y_opt helptext (default: False)\r\n",
      "  --my         the my helptext (default: False)\r\n"
     ]
    }
   ],
   "source": [
    "# ran `cmd2` help\n",
    "!python supported_options.py cmd2 -h"
   ],
   "metadata": {
    "collapsed": false,
    "pycharm": {
     "name": "#%%\n"
    }
   }
  },
  {
   "cell_type": "code",
   "execution_count": 8,
   "outputs": [
    {
     "name": "stdout",
     "output_type": "stream",
     "text": [
      "a_list (<class 'list'>): [10, 100, 1000]\r\n",
      "m_opt (<class 'bool'>): False\r\n",
      "my (<class 'bool'>): False\r\n",
      "y_opt (<class 'bool'>): False\r\n"
     ]
    }
   ],
   "source": [
    "# ran `cmd2` with args\n",
    "!python supported_options.py cmd2 10 100 1000"
   ],
   "metadata": {
    "collapsed": false,
    "pycharm": {
     "name": "#%%\n"
    }
   }
  }
 ],
 "metadata": {
  "kernelspec": {
   "name": "python3",
   "language": "python",
   "display_name": "Python 3"
  },
  "language_info": {
   "codemirror_mode": {
    "name": "ipython",
    "version": 2
   },
   "file_extension": ".py",
   "mimetype": "text/x-python",
   "name": "python",
   "nbconvert_exporter": "python",
   "pygments_lexer": "ipython2",
   "version": "2.7.6"
  }
 },
 "nbformat": 4,
 "nbformat_minor": 0
}