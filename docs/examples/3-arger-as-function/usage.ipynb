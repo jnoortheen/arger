{
 "cells": [
  {
   "cell_type": "code",
   "execution_count": 8,
   "metadata": {
    "collapsed": true
   },
   "outputs": [
    {
     "name": "stdout",
     "output_type": "stream",
     "text": [
      "usage: pytest [-h] [-v] [-l] [-o LOG_FILE] {create,remove,list} ...\r\n",
      "\r\n",
      "App Description goes here.\r\n",
      "\r\n",
      "optional arguments:\r\n",
      "  -h, --help            show this help message and exit\r\n",
      "  -v, --verbose         verbose output (default: False)\r\n",
      "  -l, --log\r\n",
      "  -o LOG_FILE, --log-file LOG_FILE\r\n",
      "                        name of the log file to write output (default: None)\r\n",
      "\r\n",
      "commands:\r\n",
      "  {create,remove,list}\r\n",
      "    create              Create new test.\r\n",
      "    remove              Remove a test.\r\n",
      "    list                List all tests.\r\n"
     ]
    }
   ],
   "source": [
    "# Run help\n",
    "!python src.py -h"
   ]
  },
  {
   "cell_type": "code",
   "execution_count": 9,
   "outputs": [
    {
     "name": "stdout",
     "output_type": "stream",
     "text": [
      "usage: pytest create [-h] name\r\n",
      "\r\n",
      "Create new test.\r\n",
      "\r\n",
      "positional arguments:\r\n",
      "  name        Name of the test\r\n",
      "\r\n",
      "optional arguments:\r\n",
      "  -h, --help  show this help message and exit\r\n"
     ]
    }
   ],
   "source": [
    "# Run `create` help\n",
    "!python src.py create -h"
   ],
   "metadata": {
    "collapsed": false,
    "pycharm": {
     "name": "#%%\n"
    }
   }
  },
  {
   "cell_type": "code",
   "execution_count": 10,
   "outputs": [
    {
     "name": "stdout",
     "output_type": "stream",
     "text": [
      "usage: pytest remove [-h] name\r\n",
      "\r\n",
      "Remove a test.\r\n",
      "\r\n",
      "positional arguments:\r\n",
      "  name        Name of the test\r\n",
      "\r\n",
      "optional arguments:\r\n",
      "  -h, --help  show this help message and exit\r\n"
     ]
    }
   ],
   "source": [
    "# Run `remove` help\n",
    "!python src.py remove -h"
   ],
   "metadata": {
    "collapsed": false,
    "pycharm": {
     "name": "#%%\n"
    }
   }
  },
  {
   "cell_type": "code",
   "execution_count": 11,
   "outputs": [
    {
     "name": "stdout",
     "output_type": "stream",
     "text": [
      "usage: pytest list [-h] [filter]\r\n",
      "\r\n",
      "List all tests.\r\n",
      "\r\n",
      "positional arguments:\r\n",
      "  filter\r\n",
      "\r\n",
      "optional arguments:\r\n",
      "  -h, --help  show this help message and exit\r\n"
     ]
    }
   ],
   "source": [
    "# Run `list` help\n",
    "!python src.py list -h"
   ],
   "metadata": {
    "collapsed": false,
    "pycharm": {
     "name": "#%%\n"
    }
   }
  },
  {
   "cell_type": "code",
   "execution_count": 12,
   "outputs": [
    {
     "name": "stdout",
     "output_type": "stream",
     "text": [
      "log (<class 'bool'>): False\r\n",
      "log_file (<class 'NoneType'>): None\r\n",
      "name (<class 'str'>): folder1\r\n",
      "verbose (<class 'bool'>): False\r\n"
     ]
    }
   ],
   "source": [
    "# Run `create` command\n",
    "!python src.py create folder1"
   ],
   "metadata": {
    "collapsed": false,
    "pycharm": {
     "name": "#%%\n"
    }
   }
  },
  {
   "cell_type": "code",
   "execution_count": 13,
   "outputs": [
    {
     "name": "stdout",
     "output_type": "stream",
     "text": [
      "log (<class 'bool'>): False\r\n",
      "log_file (<class 'NoneType'>): None\r\n",
      "name (<class 'str'>): folder1\r\n",
      "verbose (<class 'bool'>): False\r\n"
     ]
    }
   ],
   "source": [
    "# Run `remove` command\n",
    "!python src.py remove folder1"
   ],
   "metadata": {
    "collapsed": false,
    "pycharm": {
     "name": "#%%\n"
    }
   }
  },
  {
   "cell_type": "code",
   "execution_count": 14,
   "outputs": [
    {
     "name": "stdout",
     "output_type": "stream",
     "text": [
      "container (<class 'list'>): []\r\n",
      "filter (<class 'NoneType'>): None\r\n",
      "log (<class 'bool'>): False\r\n",
      "log_file (<class 'NoneType'>): None\r\n",
      "verbose (<class 'bool'>): False\r\n"
     ]
    }
   ],
   "source": [
    "# Run `list` command\n",
    "!python src.py list"
   ],
   "metadata": {
    "collapsed": false,
    "pycharm": {
     "name": "#%%\n"
    }
   }
  },
  {
   "cell_type": "code",
   "execution_count": 15,
   "outputs": [
    {
     "name": "stdout",
     "output_type": "stream",
     "text": [
      "container (<class 'list'>): []\r\n",
      "filter (<class 'NoneType'>): None\r\n",
      "log (<class 'bool'>): False\r\n",
      "log_file (<class 'str'>): file.log\r\n",
      "verbose (<class 'bool'>): False\r\n"
     ]
    }
   ],
   "source": [
    "!python src.py --log-file file.log list"
   ],
   "metadata": {
    "collapsed": false,
    "pycharm": {
     "name": "#%%\n"
    }
   }
  },
  {
   "cell_type": "code",
   "execution_count": 16,
   "outputs": [
    {
     "name": "stdout",
     "output_type": "stream",
     "text": [
      "container (<class 'list'>): []\r\n",
      "filter (<class 'str'>): filterme\r\n",
      "log (<class 'bool'>): False\r\n",
      "log_file (<class 'str'>): file.log\r\n",
      "verbose (<class 'bool'>): False\r\n"
     ]
    }
   ],
   "source": [
    "!python src.py --log-file file.log list filterme"
   ],
   "metadata": {
    "collapsed": false,
    "pycharm": {
     "name": "#%%\n"
    }
   }
  }
 ],
 "metadata": {
  "kernelspec": {
   "name": "python3",
   "language": "python",
   "display_name": "Python 3"
  },
  "language_info": {
   "codemirror_mode": {
    "name": "ipython",
    "version": 2
   },
   "file_extension": ".py",
   "mimetype": "text/x-python",
   "name": "python",
   "nbconvert_exporter": "python",
   "pygments_lexer": "ipython2",
   "version": "2.7.6"
  }
 },
 "nbformat": 4,
 "nbformat_minor": 0
}
