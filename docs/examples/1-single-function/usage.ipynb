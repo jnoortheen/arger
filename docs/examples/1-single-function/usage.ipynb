{
 "cells": [
  {
   "cell_type": "code",
   "execution_count": 6,
   "metadata": {
    "collapsed": true
   },
   "outputs": [
    {
     "name": "stdout",
     "output_type": "stream",
     "text": [
      "usage: pytest [-h] [-k KW1] [-w] param1 param2\r\n",
      "\r\n",
      "Example function with types documented in the docstring.\r\n",
      "\r\n",
      "positional arguments:\r\n",
      "  param1             The first parameter.\r\n",
      "  param2             The second parameter.\r\n",
      "\r\n",
      "optional arguments:\r\n",
      "  -h, --help         show this help message and exit\r\n",
      "  -k KW1, --kw1 KW1  this is optional parameter. (default: None)\r\n",
      "  -w, --kw2          this is boolean. setting flag sets True. (default: False)\r\n"
     ]
    }
   ],
   "source": [
    "# Run help\n",
    "!python src.py -h"
   ]
  },
  {
   "cell_type": "code",
   "execution_count": 7,
   "outputs": [
    {
     "name": "stdout",
     "output_type": "stream",
     "text": [
      "_namespace_ (<class 'argparse.Namespace'>): [('__func_0', '_dispatch'), ('__level__', 0), ('kw1', None), ('kw2', False), ('param1', 10), ('param2', 'p2')]\r\n",
      "kw1 (<class 'NoneType'>): None\r\n",
      "kw2 (<class 'bool'>): False\r\n",
      "param1 (<class 'int'>): 10\r\n",
      "param2 (<class 'str'>): p2\r\n"
     ]
    }
   ],
   "source": [
    "# ran with both positional arguments\n",
    "!python src.py 10 p2"
   ],
   "metadata": {
    "collapsed": false,
    "pycharm": {
     "name": "#%%\n"
    }
   }
  },
  {
   "cell_type": "code",
   "execution_count": 8,
   "outputs": [
    {
     "name": "stdout",
     "output_type": "stream",
     "text": [
      "usage: pytest [-h] [-k KW1] [-w] param1 param2\r\n",
      "pytest: error: the following arguments are required: param1, param2\r\n"
     ]
    }
   ],
   "source": [
    "#  ran empty\n",
    "!python src.py"
   ],
   "metadata": {
    "collapsed": false,
    "pycharm": {
     "name": "#%%\n"
    }
   }
  },
  {
   "cell_type": "code",
   "execution_count": 9,
   "outputs": [
    {
     "name": "stdout",
     "output_type": "stream",
     "text": [
      "usage: pytest [-h] [-k KW1] [-w] param1 param2\r\n",
      "pytest: error: the following arguments are required: param1, param2\r\n"
     ]
    }
   ],
   "source": [
    "# ran with invalid option\n",
    "!python src.py --invalid"
   ],
   "metadata": {
    "collapsed": false,
    "pycharm": {
     "name": "#%%\n"
    }
   }
  },
  {
   "cell_type": "code",
   "execution_count": 10,
   "outputs": [
    {
     "name": "stdout",
     "output_type": "stream",
     "text": [
      "usage: pytest [-h] [-k KW1] [-w] param1 param2\r\n",
      "pytest: error: argument param1: invalid int value: 'p1'\r\n"
     ]
    }
   ],
   "source": [
    "# ran with invalid type\n",
    "!python src.py p1 p2"
   ],
   "metadata": {
    "collapsed": false,
    "pycharm": {
     "name": "#%%\n"
    }
   }
  }
 ],
 "metadata": {
  "kernelspec": {
   "name": "python3",
   "language": "python",
   "display_name": "Python 3"
  },
  "language_info": {
   "codemirror_mode": {
    "name": "ipython",
    "version": 2
   },
   "file_extension": ".py",
   "mimetype": "text/x-python",
   "name": "python",
   "nbconvert_exporter": "python",
   "pygments_lexer": "ipython2",
   "version": "3.7.6-final"
  }
 },
 "nbformat": 4,
 "nbformat_minor": 0
}