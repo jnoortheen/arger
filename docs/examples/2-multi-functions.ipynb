{
 "cells": [
  {
   "cell_type": "markdown",
   "source": [
    "# Multiple Commands\n",
    "\n",
    "in a file named [`multi-functions.py`](./multi-functions.py)\n",
    "\n",
    "```python\n",
    "--8<-- \"multi-functions.py\"\n",
    "```\n"
   ],
   "metadata": {
    "collapsed": false
   }
  },
  {
   "cell_type": "code",
   "execution_count": 1,
   "metadata": {
    "collapsed": true
   },
   "outputs": [
    {
     "name": "stdout",
     "output_type": "stream",
     "text": [
      "usage: pytest [-h] {create,remove,list} ...\r\n",
      "\r\n",
      "App Description goes here\r\n",
      "\r\n",
      "optional arguments:\r\n",
      "  -h, --help            show this help message and exit\r\n",
      "\r\n",
      "commands:\r\n",
      "  {create,remove,list}\r\n",
      "    create              Create new test.\r\n",
      "    remove              Remove a test with variadic argument.\r\n",
      "    list                List all tests.\r\n"
     ]
    }
   ],
   "source": [
    "# Run help\n",
    "!python multi-functions.py -h"
   ]
  },
  {
   "cell_type": "code",
   "execution_count": 1,
   "outputs": [
    {
     "name": "stdout",
     "output_type": "stream",
     "text": [
      "usage: pytest create [-h] name\r\n",
      "\r\n",
      "Create new test.\r\n",
      "\r\n",
      "positional arguments:\r\n",
      "  name        Name of the test\r\n",
      "\r\n",
      "optional arguments:\r\n",
      "  -h, --help  show this help message and exit\r\n"
     ]
    }
   ],
   "source": [
    "# Run `create` help\n",
    "!python multi-functions.py create -h"
   ],
   "metadata": {
    "collapsed": false,
    "pycharm": {
     "name": "#%%\n"
    }
   }
  },
  {
   "cell_type": "code",
   "execution_count": 2,
   "outputs": [
    {
     "name": "stdout",
     "output_type": "stream",
     "text": [
      "usage: pytest remove [-h] [name [name ...]]\r\n",
      "\r\n",
      "Remove a test with variadic argument.\r\n",
      "\r\n",
      "positional arguments:\r\n",
      "  name        tests to remove (default: None)\r\n",
      "\r\n",
      "optional arguments:\r\n",
      "  -h, --help  show this help message and exit\r\n"
     ]
    }
   ],
   "source": [
    "# Run `remove` help\n",
    "!python multi-functions.py remove -h"
   ],
   "metadata": {
    "collapsed": false,
    "pycharm": {
     "name": "#%%\n"
    }
   }
  },
  {
   "cell_type": "code",
   "execution_count": 3,
   "outputs": [
    {
     "name": "stdout",
     "output_type": "stream",
     "text": [
      "usage: pytest list [-h]\r\n",
      "\r\n",
      "List all tests.\r\n",
      "\r\n",
      "optional arguments:\r\n",
      "  -h, --help  show this help message and exit\r\n"
     ]
    }
   ],
   "source": [
    "# Run `list` help\n",
    "!python multi-functions.py list -h"
   ],
   "metadata": {
    "collapsed": false,
    "pycharm": {
     "name": "#%%\n"
    }
   }
  },
  {
   "cell_type": "code",
   "execution_count": 7,
   "outputs": [
    {
     "name": "stdout",
     "output_type": "stream",
     "text": [
      "name (<class 'str'>): folder1\r\n"
     ]
    }
   ],
   "source": [
    "# Run `create` command\n",
    "!python multi-functions.py create folder1"
   ],
   "metadata": {
    "collapsed": false,
    "pycharm": {
     "name": "#%%\n"
    }
   }
  },
  {
   "cell_type": "code",
   "execution_count": 9,
   "outputs": [
    {
     "name": "stdout",
     "output_type": "stream",
     "text": [
      "name (<class 'tuple'>): ('folder1', 'folder2')\r\n"
     ]
    }
   ],
   "source": [
    "# Run `remove` command\n",
    "!python multi-functions.py remove folder1 folder2"
   ],
   "metadata": {
    "collapsed": false,
    "pycharm": {
     "name": "#%%\n"
    }
   }
  },
  {
   "cell_type": "code",
   "execution_count": 10,
   "outputs": [
    {
     "name": "stdout",
     "output_type": "stream",
     "text": [
      "container (<class 'list'>): []\r\n"
     ]
    }
   ],
   "source": [
    "# Run `list` command\n",
    "!python multi-functions.py list"
   ],
   "metadata": {
    "collapsed": false,
    "pycharm": {
     "name": "#%%\n"
    }
   }
  }
 ],
 "metadata": {
  "kernelspec": {
   "name": "python3",
   "language": "python",
   "display_name": "Python 3"
  },
  "language_info": {
   "codemirror_mode": {
    "name": "ipython",
    "version": 2
   },
   "file_extension": ".py",
   "mimetype": "text/x-python",
   "name": "python",
   "nbconvert_exporter": "python",
   "pygments_lexer": "ipython2",
   "version": "2.7.6"
  }
 },
 "nbformat": 4,
 "nbformat_minor": 0
}